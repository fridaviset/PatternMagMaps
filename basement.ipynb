{
 "cells": [
  {
   "cell_type": "markdown",
   "id": "965fea9c-0418-4416-a8de-3f03bffbdb08",
   "metadata": {},
   "source": [
    "### Basement dataset"
   ]
  },
  {
   "cell_type": "code",
   "execution_count": null,
   "id": "ef6a3ab8-41bb-43b7-8e67-6aeddc72879c",
   "metadata": {},
   "outputs": [],
   "source": [
    "import jax \n",
    "import jax.numpy as jnp\n",
    "import scipy.io as sio\n",
    "import gpjax as gpx\n",
    "import optax as ox\n",
    "jax.config.update(\"jax_enable_x64\", True)\n",
    "import matplotlib.pyplot as plt\n",
    "%matplotlib widget\n",
    "import seaborn as sns\n",
    "import pandas as pd\n",
    "from tqdm.notebook import tqdm\n",
    "%load_ext autoreload\n",
    "%autoreload 2\n",
    "sns.set()"
   ]
  },
  {
   "cell_type": "markdown",
   "id": "186c5d6f-6f5d-43e4-b091-86088c5ae767",
   "metadata": {},
   "source": [
    "### Load and visualize the data"
   ]
  },
  {
   "cell_type": "code",
   "execution_count": null,
   "id": "2e3d82f8-87db-4b34-9f9b-73504e3e6f47",
   "metadata": {},
   "outputs": [],
   "source": [
    "data = sio.loadmat(\"data/basement.mat\")\n",
    "X = data['p']\n",
    "Y = data['y']\n",
    "Da = gpx.Dataset(X, Y)\n",
    "\n",
    "l2 = 4\n",
    "west = - 50 - l2\n",
    "east = 50 + l2\n",
    "south = - 40 - l2\n",
    "north = 40 + l2\n",
    "Lx = (jnp.abs(east) + jnp.abs(west)).squeeze()/2\n",
    "Ly = (jnp.abs(south) + jnp.abs(north)).squeeze()/2\n",
    "Lz = l2\n",
    "\n",
    "plt.close(\"all\")\n",
    "plt.figure()\n",
    "plt.scatter(X[:,0],X[:,1],c=jnp.linalg.norm(Y,axis=1))\n",
    "plt.show()"
   ]
  },
  {
   "cell_type": "markdown",
   "id": "419f4b15-8f7a-4f7c-89d4-e0d91a1780ed",
   "metadata": {},
   "source": [
    "### Constructs the curl-free sum GP and conditions on the dataset"
   ]
  },
  {
   "cell_type": "code",
   "execution_count": null,
   "id": "3da1c373-081f-4d9b-ad13-f236688fa1e2",
   "metadata": {},
   "outputs": [],
   "source": [
    "import kernels\n",
    "import gps\n",
    "import objectives\n",
    "Q = 4\n",
    "fx, fy, fz = jnp.meshgrid(jnp.arange(0, Q+1) * 1/6, jnp.arange(0, Q+1) * 1/15, jnp.arange(0, Q+1) * 1/2, indexing='ij')\n",
    "mu = jnp.array([fx.flatten(), fy.flatten(), fz.flatten()]).T\n",
    "pd_kernel = kernels.PotentialPeriodicPD(q=mu.shape[0], d=3, mu=mu).replace_trainable(mu=False)\n",
    "\n",
    "bf = kernels.PotentialLaplaceBF(num_bfs=[40, 40, 3], L = [Lx, Ly, Lz])\n",
    "kernel = kernels.SumKernel(kernels=[pd_kernel, kernels.RBF(basis=bf, lengthscale=2., variance=5.)])\n",
    "mean_function = gpx.mean_functions.Zero()\n",
    "prior = gpx.gps.Prior(mean_function=mean_function, kernel=kernel)\n",
    "likelihood = gpx.likelihoods.Gaussian(num_datapoints=Da.n, obs_stddev=5.)\n",
    "posterior = prior * likelihood\n",
    "\n",
    "gp = gps.PotentialBFGP(likelihood=likelihood, prior=prior)\n",
    "pgp = gp.update_with_batch(Da)"
   ]
  },
  {
   "cell_type": "markdown",
   "id": "2a37cf14-0497-4fcc-879d-4560eb9e0b85",
   "metadata": {},
   "source": [
    "#### Optimize hyperparameters (may take some time)"
   ]
  },
  {
   "cell_type": "code",
   "execution_count": null,
   "id": "26312b9d-ead6-45ec-ae24-8a4bcd0afa8f",
   "metadata": {},
   "outputs": [],
   "source": [
    "key = jax.random.PRNGKey(13)\n",
    "optimizer = ox.adam(learning_rate=1e-1)\n",
    "\n",
    "gp_full, history = gpx.fit(\n",
    "                            model=pgp,\n",
    "                            objective=objectives.BF_MLL(negative=True, compute_bf=False),\n",
    "                            train_data=Da,\n",
    "                            optim=optimizer,\n",
    "                            num_iters=150,\n",
    "                            key=key,\n",
    ")"
   ]
  },
  {
   "cell_type": "code",
   "execution_count": null,
   "id": "909c448d-1198-4875-9126-bc77d296f62b",
   "metadata": {},
   "outputs": [],
   "source": [
    "plt.figure(figsize=(8,3))\n",
    "plt.plot(history)\n",
    "plt.show()"
   ]
  },
  {
   "cell_type": "markdown",
   "id": "ef41eb09-5905-4a9f-b3a1-c90d95154c2d",
   "metadata": {},
   "source": [
    "##### Extract the SE component to construct an SE GP as well"
   ]
  },
  {
   "cell_type": "code",
   "execution_count": null,
   "id": "b2880300-174b-43dd-8f58-acc64ae374d8",
   "metadata": {},
   "outputs": [],
   "source": [
    "import utils\n",
    "dQ = gp_full.prior.kernel.kernels[0].q * 2\n",
    "dparams = gp_full.parameters.replace(alpha=gp_full.alpha[dQ:], B=gp_full.B[dQ:, dQ:])\n",
    "se_full = gp_full.replace(parameters=dparams, prior=gp_full.prior.replace(kernel=gp_full.prior.kernel.kernels[1]))"
   ]
  },
  {
   "cell_type": "markdown",
   "id": "383833d2-0f99-42db-b4b3-a689c3607cc6",
   "metadata": {},
   "source": [
    "### Compute predictions on a fine grid"
   ]
  },
  {
   "cell_type": "code",
   "execution_count": null,
   "id": "fdabc9bb-3e63-45d6-a8c2-ffcbe9ca86dc",
   "metadata": {},
   "outputs": [],
   "source": [
    "import gp_utils as gpu\n",
    "\n",
    "step = 0.25\n",
    "x = jnp.arange(west + l2, east - l2 + step, step)\n",
    "y = jnp.arange(south + l2, north - l2 + step, step)\n",
    "X, Y = jnp.meshgrid(x, y)\n",
    "X = jnp.array([X.flatten(), Y.flatten()]).T\n",
    "xtest = jnp.hstack([X, jnp.zeros((X.shape[0],1))])\n",
    "def pred_on_grid(gp):\n",
    "    mux, covx = [], []\n",
    "    muy, covy = [], []\n",
    "    muz, covz = [], []\n",
    "    m, S = gp.mean_parameters\n",
    "    for i in tqdm(range(0, X.shape[0], 1000)):\n",
    "        mu, V = gpu.predict(m, S, gp.prior.kernel, xtest[i:i+1000])\n",
    "        mux.append(mu.T[0])\n",
    "        muy.append(mu.T[1])\n",
    "        muz.append(mu.T[2])\n",
    "        covx.append(V.T[0].diagonal())\n",
    "        covy.append(V.T[1].diagonal())\n",
    "        covz.append(V.T[2].diagonal())\n",
    "    mux, covx = jnp.concatenate(mux), jnp.concatenate(covx)\n",
    "    muy, covy = jnp.concatenate(muy), jnp.concatenate(covy)\n",
    "    muz, covz = jnp.concatenate(muz), jnp.concatenate(covz)\n",
    "    return (mux, covx), (muy, covy), (muz, covz)\n",
    "def norm_pred(xmu, xcov, ymu, ycov, zmu, zcov):\n",
    "    base_y = data['y_raw'].mean(axis=0)\n",
    "    norm = jnp.sqrt((xmu+base_y[0])**2 + (ymu+base_y[1])**2 + (zmu+base_y[2])**2)\n",
    "    var = xcov + ycov + zcov\n",
    "    return norm, var"
   ]
  },
  {
   "cell_type": "markdown",
   "id": "9a8bd416-59a3-4172-b1e1-ca366b8f535b",
   "metadata": {},
   "source": [
    "##### This may take some time"
   ]
  },
  {
   "cell_type": "code",
   "execution_count": null,
   "id": "7f88daa3-0d5d-402b-971b-77b1edf2dd81",
   "metadata": {},
   "outputs": [],
   "source": [
    "(se_x, se_xcov), (se_y, se_ycov), (se_z, se_zcov) = pred_on_grid(se_full)\n",
    "(sum_x, sum_xcov), (sum_y, sum_ycov), (sum_z, sum_zcov) = pred_on_grid(gp_full)"
   ]
  },
  {
   "cell_type": "code",
   "execution_count": null,
   "id": "f2e70d0a-2b60-4399-8cc6-a657d45e8aee",
   "metadata": {},
   "outputs": [],
   "source": [
    "se_norm, se_var = norm_pred(se_x, se_xcov, se_y, se_ycov, se_z, se_zcov)\n",
    "sum_norm, sum_var = norm_pred(sum_x, sum_xcov, sum_y, sum_ycov, sum_z, sum_zcov)"
   ]
  },
  {
   "cell_type": "markdown",
   "id": "c4462edc-03c3-49dd-9e26-939eae0d9965",
   "metadata": {},
   "source": [
    "##### Plotting function"
   ]
  },
  {
   "cell_type": "code",
   "execution_count": null,
   "id": "a80b9032-3b11-4628-82b9-d32c17cb1e72",
   "metadata": {},
   "outputs": [],
   "source": [
    "from utils import bitmappify\n",
    "import matplotlib\n",
    "import tikzplotlib\n",
    "def plot_preds(norm, var, basevar, filename=None, extra_params=[], standalone=False):\n",
    "    alpha = 1 - var/basevar\n",
    "    with sns.axes_style(\"white\"):\n",
    "        matplotlib.rcParams['xtick.direction'] ='in'\n",
    "        matplotlib.rcParams['ytick.direction'] ='in'\n",
    "        matplotlib.rcParams['xtick.bottom'] = True\n",
    "        matplotlib.rcParams['ytick.left'] = True\n",
    "        plt.close(\"all\")\n",
    "        fig = plt.figure(figsize=(8, 8))\n",
    "        g = plt.imshow(norm.reshape(Y.shape), \n",
    "                       alpha=alpha.reshape(Y.shape),\n",
    "                       cmap=sns.color_palette(\"viridis\", as_cmap=True),\n",
    "                       vmin=14,\n",
    "                       vmax=23,\n",
    "                       origin='lower',\n",
    "                       extent=(xtest[:,0].min(), xtest[:,0].max(), xtest[:,1].min(), xtest[:,1].max()),\n",
    "                      interpolation='bicubic')\n",
    "        \n",
    "        bitmappify(plt.gca(), dpi=300)\n",
    "        plt.xlabel(r'$p_1~[m]$')\n",
    "        plt.ylabel(r'$p_2~[m]$')\n",
    "        extra_params.extend([\"scale only axis\",\n",
    "                        \"axis lines = left\",\n",
    "                       \"xlabel style={yshift=.25cm}\",\n",
    "                        \"ylabel style={yshift=-.25cm}\"])\n",
    "        fig.colorbar(g, ax=plt.gca(), location='top', label=r'$\\mu T$')\n",
    "        if filename is not None:\n",
    "            tikzplotlib.save(filename,\n",
    "                         axis_width=\"4cm\",\n",
    "                         extra_axis_parameters=extra_params,\n",
    "                        override_externals=True,\n",
    "                        standalone=standalone)\n",
    "        plt.show()"
   ]
  },
  {
   "cell_type": "markdown",
   "id": "67c8d388-a209-446d-8b20-5d2903016e14",
   "metadata": {},
   "source": [
    "##### Plot SE predictions"
   ]
  },
  {
   "cell_type": "code",
   "execution_count": null,
   "id": "5ef8316d-eb87-4941-b87a-46a62e59d19e",
   "metadata": {},
   "outputs": [],
   "source": [
    "extra_params = [\"colormap/viridis\",\n",
    "                \"colorbar horizontal\",\n",
    "                \"colorbar style={\\n\\\n",
    "at={(0.5, 1.025)},\\n\\\n",
    "anchor=south,\\n\\\n",
    "point meta min=14,\\n\\\n",
    "point meta max=24,\\n\\\n",
    "xticklabel pos=upper,\\n\\\n",
    "xlabel = {$\\si{\\micro\\tesla}$},\\n\\\n",
    "height = .15cm,\\n\\\n",
    "}\"]\n",
    "basevar = se_var.max()\n",
    "plot_preds(se_norm, se_var, basevar, filename=\"se_warehouse_predictions.tex\", extra_params=extra_params, standalone=False)"
   ]
  },
  {
   "cell_type": "markdown",
   "id": "d2942bd0-3f20-4532-970a-b25e0bdd46f3",
   "metadata": {},
   "source": [
    "##### Plot sum predictions"
   ]
  },
  {
   "cell_type": "code",
   "execution_count": null,
   "id": "434ce2b1-63c4-4237-b3d2-db72d7769714",
   "metadata": {},
   "outputs": [],
   "source": [
    "basevar = gp_full.prior.kernel.kernels[0].variance*jnp.exp(gp_full.prior.kernel.kernels[0].a).sum() + gp_full.prior.kernel.kernels[1].variance\n",
    "plot_preds(sum_norm, sum_var, basevar, filename=\"sum_warehouse_predictions.tex\", standalone=False)"
   ]
  },
  {
   "cell_type": "markdown",
   "id": "2ec68d61-151f-4572-b7de-1f9c5fe9bf14",
   "metadata": {},
   "source": [
    "##### Save hyperparams -- for MC runs in MATLAB"
   ]
  },
  {
   "cell_type": "code",
   "execution_count": null,
   "id": "efbd1a48-1aac-4ee8-b6a7-22399920f3ec",
   "metadata": {},
   "outputs": [],
   "source": [
    "sio.savemat(\"hyperparams.mat\", dict(obs_stddev=gp_full.likelihood.obs_stddev,\n",
    "     mixture_weights=jnp.exp(gp_full.prior.kernel.kernels[0].a) * gp_full.prior.kernel.kernels[0].variance,\n",
    "     frequencies=gp_full.prior.kernel.kernels[0].mu,\n",
    "     se_lengthscale=gp_full.prior.kernel.kernels[1].lengthscale, \n",
    "     se_variance=gp_full.prior.kernel.kernels[1].variance,\n",
    "     se_num_bfs=gp_full.prior.kernel.kernels[1].basis.num_bfs, \n",
    "     se_domain_boundary=gp_full.prior.kernel.kernels[1].basis.L))"
   ]
  },
  {
   "cell_type": "code",
   "execution_count": null,
   "id": "5cccf00a-477e-48d8-b437-af8fabfdc45d",
   "metadata": {},
   "outputs": [],
   "source": [
    "filenames = ['pd', 'se', 'sum', 'meas']\n",
    "for file in filenames:\n",
    "    fig, ax = plt.subplots(figsize=(6, 6))\n",
    "    with open(file + '.csv', \"r\") as f:\n",
    "        d = pd.read_csv(f)\n",
    "    g = plt.scatter(d.x1, d.x2, c=d.y, vmin=0, vmax=2.5, cmap=sns.color_palette(\"viridis\", as_cmap=True), alpha=d.a)\n",
    "    ax.set(xticklabels=[], yticklabels=[])\n",
    "    fig.savefig(file + '.pdf', bbox_inches='tight')\n",
    "    if 'meas' in file:\n",
    "        fig, ax = plt.subplots()\n",
    "        cbar = plt.colorbar(g, ax=ax, orientation='horizontal')\n",
    "        cbar.ax.xaxis.set_ticks_position('top')\n",
    "        ax.remove()\n",
    "        fig.savefig('visionen_cbar.pdf', bbox_inches='tight')"
   ]
  },
  {
   "cell_type": "code",
   "execution_count": null,
   "id": "25b19bb1-e964-4f27-93fe-006a10824cc0",
   "metadata": {},
   "outputs": [],
   "source": [
    "vmin, vmax = D.y.min(), D.y.max()\n",
    "\n",
    "plt.close(\"all\")\n",
    "fig, ax = plt.subplots(2, 2, figsize=(8, 8))\n",
    "g = ax[1,0].scatter(D.X[:,0],D.X[:,1], c=D.y.flatten(), vmin=vmin, vmax=vmax, cmap=sns.color_palette(\"viridis\", as_cmap=True))\n",
    "ax[1,0].set_title(\"Raw measurements\")\n",
    "apd = yh_pd.covariance().diagonal()\n",
    "apd = apd/apd.max()\n",
    "ax[0,0].scatter(xtest[:,0], xtest[:,1], c=yh_pd.mean(), vmin=vmin, vmax=vmax, cmap=sns.color_palette(\"viridis\", as_cmap=True), alpha=1-apd)\n",
    "ax[0,0].set_title(\"PD kernel\")\n",
    "ase = yhgp.covariance().diagonal()\n",
    "ase = ase/ase.max()\n",
    "ax[0,1].scatter(xtest[:,0], xtest[:,1], c=yhgp.mean(), vmin=vmin, vmax=vmax, cmap=sns.color_palette(\"viridis\", as_cmap=True), alpha=1-ase)\n",
    "ax[0,1].set_title(\"SE kernel\")\n",
    "asum = yh_sum.covariance().diagonal()\n",
    "asum = asum/asum.max()\n",
    "g = ax[1,1].scatter(xtest[:,0], xtest[:,1], c=yh_sum.mean(), vmin=vmin, vmax=vmax, cmap=sns.color_palette(\"viridis\", as_cmap=True), alpha=1-asum)\n",
    "ax[1,1].set_title(\"PD + SE kernel\")\n",
    "fig.subplots_adjust(right=0.8)\n",
    "cbar_ax = fig.add_axes([0.85, 0.15, 0.05, 0.7])\n",
    "fig.colorbar(g, cax=cbar_ax)\n",
    "\n",
    "for axi in ax.flatten():\n",
    "    axi.set_box_aspect(1)\n",
    "plt.show()"
   ]
  },
  {
   "cell_type": "code",
   "execution_count": null,
   "id": "cb99fae1-01ce-46d6-9eab-0109c8e65e71",
   "metadata": {},
   "outputs": [],
   "source": [
    "yh_pd.kl_divergence(yhgp)\n",
    "yh_sum.kl_divergence(yhgp)"
   ]
  }
 ],
 "metadata": {
  "kernelspec": {
   "display_name": "Python 3 (ipykernel)",
   "language": "python",
   "name": "python3"
  },
  "language_info": {
   "codemirror_mode": {
    "name": "ipython",
    "version": 3
   },
   "file_extension": ".py",
   "mimetype": "text/x-python",
   "name": "python",
   "nbconvert_exporter": "python",
   "pygments_lexer": "ipython3",
   "version": "3.11.5"
  }
 },
 "nbformat": 4,
 "nbformat_minor": 5
}
