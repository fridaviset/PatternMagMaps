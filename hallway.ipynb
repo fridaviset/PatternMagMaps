{
 "cells": [
  {
   "cell_type": "markdown",
   "id": "53e4f307-8cd2-4671-89b2-898841578f5d",
   "metadata": {},
   "source": [
    "### 1D Hallway dataset\n",
    "Optimizes hyperparameters and constructs three GPs based on the optimized hyperparameters\n",
    "1. A pure PD GP\n",
    "2. A pure SE GP\n",
    "3. A PD+SE GP"
   ]
  },
  {
   "cell_type": "code",
   "execution_count": null,
   "id": "ed9f2a09-55b2-400d-b220-65c56a047cf2",
   "metadata": {},
   "outputs": [],
   "source": [
    "import jax \n",
    "import jax.numpy as jnp\n",
    "import scipy.io as sio\n",
    "import gpjax as gpx\n",
    "import optax as ox\n",
    "jax.config.update(\"jax_enable_x64\", True)\n",
    "%matplotlib widget\n",
    "import matplotlib.pyplot as plt\n",
    "import seaborn as sns\n",
    "import pandas as pd\n",
    "%load_ext autoreload\n",
    "%autoreload 2\n",
    "sns.set()"
   ]
  },
  {
   "cell_type": "markdown",
   "id": "c0a1cf75-3c9e-4d4a-982b-beef1bbf8b8a",
   "metadata": {},
   "source": [
    "### Load data and construct dataset"
   ]
  },
  {
   "cell_type": "code",
   "execution_count": null,
   "id": "88a20f9a-a30c-46d3-bcc9-9b6f02ebbf72",
   "metadata": {},
   "outputs": [],
   "source": [
    "data = sio.loadmat(\"data/hallway.mat\")\n",
    "X, y = data['x'], data['y_norm']\n",
    "y = jnp.linalg.norm(data['y'], axis=0)[:, None]\n",
    "ymu = y.mean()\n",
    "D = gpx.Dataset(X, y - ymu)"
   ]
  },
  {
   "cell_type": "markdown",
   "id": "034b1a7e-705c-4d3a-983d-bd54442125bd",
   "metadata": {},
   "source": [
    "### MLL Optimization"
   ]
  },
  {
   "cell_type": "code",
   "execution_count": null,
   "id": "9a3bd00c-59b1-4587-b8bb-6e82bb916a81",
   "metadata": {},
   "outputs": [],
   "source": [
    "import kernels\n",
    "Q = 20\n",
    "mu = jnp.arange(0, Q+1) * 1/12\n",
    "pd_kernel = kernels.PeriodicPD(q=mu.shape[0], d=1, mu=mu).replace_trainable(mu=False)\n",
    "boundary = jnp.array([D.X.min(axis=0), D.X.max(axis=0)]).T\n",
    "L = 0.6 * jnp.diff(boundary, axis=1).squeeze()\n",
    "center = D.X.mean(axis=0)\n",
    "basis = kernels.LaplaceBF(num_bfs=[200], center=center, L = L)\n",
    "kernel = kernels.SumKernel(kernels=[pd_kernel, kernels.RBF(lengthscale=.4, variance=1., basis=basis)])\n",
    "mean_function = gpx.mean_functions.Zero()\n",
    "prior = gpx.gps.Prior(mean_function=mean_function, kernel=kernel)\n",
    "likelihood = gpx.likelihoods.Gaussian(num_datapoints=D.n, obs_stddev=jnp.array(1.))\n",
    "posterior = prior * likelihood\n",
    "import objectives\n",
    "import gps\n",
    "gp = gps.BFGP(likelihood=likelihood, prior=prior)\n",
    "pgp = gp.update_with_batch(D)"
   ]
  },
  {
   "cell_type": "markdown",
   "id": "67955763-d12b-441e-b84f-4ce1d4cc9efc",
   "metadata": {},
   "source": [
    "### Optimize hyperparameters"
   ]
  },
  {
   "cell_type": "code",
   "execution_count": null,
   "id": "def8cbfd-639c-4488-b3b4-54498321e088",
   "metadata": {},
   "outputs": [],
   "source": [
    "key = jax.random.PRNGKey(13)\n",
    "optimizer = ox.adam(learning_rate=1e-1)\n",
    "gp_full, history = gpx.fit(\n",
    "                            model=pgp,\n",
    "                            objective=objectives.BF_MLL(negative=True, compute_bf=False),\n",
    "                            train_data=D,\n",
    "                            optim=optimizer,\n",
    "                            num_iters=150,\n",
    "                            key=key,\n",
    ")"
   ]
  },
  {
   "cell_type": "code",
   "execution_count": null,
   "id": "1824ae6a-fc64-4761-91a3-3f7479833f2d",
   "metadata": {},
   "outputs": [],
   "source": [
    "plt.figure(figsize=(8, 3))\n",
    "plt.plot(history)\n",
    "plt.show()"
   ]
  },
  {
   "cell_type": "markdown",
   "id": "f7868227-7896-4933-9332-23faa27a5f78",
   "metadata": {},
   "source": [
    "### Predictions of the three GPs (PD, SE and PD+SE)\n",
    "Constructs the three different GPs.\n",
    "Then predicts on the entire dataset, conditioned only on the first 300 observations."
   ]
  },
  {
   "cell_type": "code",
   "execution_count": null,
   "id": "fd27313a-9da5-4f67-b41c-74e4e8e4f2f1",
   "metadata": {},
   "outputs": [],
   "source": [
    "pd_post_gp = gps.BFGP(likelihood=gp_full.likelihood, prior=prior.replace(kernel=gp_full.prior.kernel.kernels[0]))\n",
    "se_post_gp = gps.BFGP(likelihood=gp_full.likelihood, prior=prior.replace(kernel=gp_full.prior.kernel.kernels[1]))\n",
    "full_post_gp = gps.BFGP(likelihood=gp_full.likelihood, prior=prior.replace(kernel=gp_full.prior.kernel))\n",
    "D1 = gpx.Dataset(D.X[:300], D.y[:300])\n",
    "full_yhat = full_post_gp(D.X, extra_data=D1)\n",
    "pd_yhat = pd_post_gp(D.X, extra_data=D1)\n",
    "se_yhat = se_post_gp(D.X, extra_data=D1)"
   ]
  },
  {
   "cell_type": "code",
   "execution_count": null,
   "id": "1d36bdbc-042a-44e1-b716-1f070e19d8ce",
   "metadata": {},
   "outputs": [],
   "source": [
    "def pl_conf(post, Z, ax=None, beta=3, **kwargs):\n",
    "    mu = post.mean()\n",
    "    std = jnp.sqrt(post.covariance().diagonal()) #+ gp_full.likelihood.obs_stddev\n",
    "    if ax is None:\n",
    "        ax = plt.gca()\n",
    "    l = ax.plot(Z, mu+ymu, '--', **kwargs)[0]\n",
    "    ax.fill_between(Z, mu+ymu - beta*std, mu+ymu + beta*std, alpha=.2, color=l.get_color())\n",
    "\n",
    "plt.close(\"all\")\n",
    "plt.figure()\n",
    "plt.plot(D.X[:,0], D.y+ymu, 'k')\n",
    "plt.plot(D1.X[:,0], D1.y+ymu, color='tab:blue')\n",
    "# pl_conf(mll_yhat, D.X[:,1], color='tab:orange', label='MLL')\n",
    "pl_conf(pd_yhat, D.X[:,0], color='tab:orange', label='Periodic')\n",
    "pl_conf(se_yhat, D.X[:,0], color='tab:purple', label='SE')\n",
    "pl_conf(full_yhat, D.X[:,0], color='tab:green', label='Full')\n",
    "plt.legend()\n",
    "plt.show()"
   ]
  },
  {
   "cell_type": "markdown",
   "id": "3c0acece-cc6c-4b5b-99eb-b5c98fcf6999",
   "metadata": {},
   "source": [
    "### Save to .csv for tikz-plots"
   ]
  },
  {
   "cell_type": "code",
   "execution_count": null,
   "id": "a2c5dc87-ab76-41fb-8ff8-3b2f8bb3a14a",
   "metadata": {},
   "outputs": [],
   "source": [
    "import pandas as pd\n",
    "with open(\"hallway_results.csv\", \"w\") as file:\n",
    "    pd.DataFrame(dict(x=D.X.squeeze(), \n",
    "                      y=D.y.squeeze() + ymu, \n",
    "                      pdmu=pd_yhat.mean() + ymu, \n",
    "                      pdstd=jnp.sqrt(pd_yhat.covariance().diagonal()),\n",
    "                      semu=se_yhat.mean() + ymu, \n",
    "                      sestd=jnp.sqrt(se_yhat.covariance().diagonal()),\n",
    "                      summu=full_yhat.mean() + ymu, \n",
    "                      sumstd=jnp.sqrt(full_yhat.covariance().diagonal()))).to_csv(file, index=False)"
   ]
  },
  {
   "cell_type": "code",
   "execution_count": null,
   "id": "79a23a2e-c141-400f-960b-d2a5e4a4055b",
   "metadata": {},
   "outputs": [],
   "source": [
    "import kernels\n",
    "Q = 20\n",
    "mu = jnp.arange(1, Q+1) * 1/12\n",
    "# nu = jnp.ones((Q, 1)) * 0.2\n",
    "# pd_kernel = kernels.PD(q=Q, mu=mu, nu=nu)#.replace_trainable(mu=False)\n",
    "pd_kernel = kernels.PeriodicPD(q=Q, mu=mu)#.replace_trainable(mu=False)\n",
    "pd_kernel = kernels.FourierPD(q=Q, fundamental_frequency=1/12)#.replace_trainable(mu=False)\n",
    "# pd_kernel = pd_kernel.replace_trainable(mu=False, nu=False)\n",
    "# kernel = gpx.kernels.SumKernel(kernels=[pd_kernel, gpx.kernels.RBF()])\n",
    "kernel = pd_kernel\n",
    "mean_function = gpx.mean_functions.Zero()\n",
    "prior = gpx.gps.Prior(mean_function=mean_function, kernel=kernel)\n",
    "likelihood = gpx.likelihoods.Gaussian(num_datapoints=D.n, obs_stddev=1.)\n",
    "posterior = prior * likelihood"
   ]
  },
  {
   "cell_type": "code",
   "execution_count": null,
   "id": "4935e6f3-e8ce-412f-94f4-8aca23a08026",
   "metadata": {},
   "outputs": [],
   "source": [
    "key = jax.random.PRNGKey(13)\n",
    "optimizer = ox.adam(learning_rate=1e-1)\n",
    "\n",
    "pd_full, history = gpx.fit(\n",
    "                            model=posterior,\n",
    "                            objective=gpx.objectives.ConjugateMLL(negative=True),\n",
    "                            train_data=D,\n",
    "                            optim=optimizer,\n",
    "                            num_iters=100,\n",
    "                            key=key,\n",
    ")"
   ]
  },
  {
   "cell_type": "code",
   "execution_count": null,
   "id": "26f641d4-817e-440a-ae9c-f0ebaa620ffa",
   "metadata": {},
   "outputs": [],
   "source": [
    "plt.figure(figsize=(8, 3))\n",
    "plt.plot(history)\n",
    "plt.show()"
   ]
  },
  {
   "cell_type": "markdown",
   "id": "b9a18fbd-a7cd-4afd-8618-592121d5e581",
   "metadata": {
    "jp-MarkdownHeadingCollapsed": true
   },
   "source": [
    "##### Re-optimize with SE kernel as well"
   ]
  },
  {
   "cell_type": "code",
   "execution_count": null,
   "id": "639f9113-2212-4a98-b6ae-c766f3fbf486",
   "metadata": {},
   "outputs": [],
   "source": [
    "kernel = pd_full.prior.kernel\n",
    "prior = gpx.gps.Prior(mean_function=mean_function, kernel=gpx.kernels.SumKernel(kernels=[kernel, gpx.kernels.RBF()]))\n",
    "posterior = prior * pd_full.likelihood"
   ]
  },
  {
   "cell_type": "code",
   "execution_count": null,
   "id": "101cfe0e-66c8-4d2d-8071-8dce791ed4f5",
   "metadata": {},
   "outputs": [],
   "source": [
    "sum_full, history = gpx.fit(\n",
    "                            model=posterior,\n",
    "                            objective=gpx.objectives.ConjugateMLL(negative=True),\n",
    "                            train_data=D,\n",
    "                            optim=optimizer,\n",
    "                            num_iters=100,\n",
    "                            key=key,\n",
    ")"
   ]
  },
  {
   "cell_type": "code",
   "execution_count": null,
   "id": "141ca3fb-a84a-46bb-8226-31bfdc3b2bbb",
   "metadata": {},
   "outputs": [],
   "source": [
    "plt.figure(figsize=(8, 3))\n",
    "plt.plot(history)\n",
    "plt.show()"
   ]
  },
  {
   "cell_type": "code",
   "execution_count": null,
   "id": "29f1bfb7-42d3-434e-89f5-a0ceaadd9940",
   "metadata": {},
   "outputs": [],
   "source": [
    "prior = gpx.gps.Prior(mean_function=mean_function, kernel=sum_full.prior.kernel.kernels[1])\n",
    "se_full = prior * likelihood"
   ]
  },
  {
   "cell_type": "code",
   "execution_count": null,
   "id": "d8847834-dfca-4e04-9360-1d9b3a1be25b",
   "metadata": {},
   "outputs": [],
   "source": [
    "D1 = gpx.Dataset(D.X[:300], D.y[:300])\n",
    "xmin, xmax = X.min(), X.max()\n",
    "Z = jnp.linspace(xmin, xmax, 500)\n",
    "pd_yhat = pd_full(Z, D1)\n",
    "sum_yhat = sum_full(Z, D1)\n",
    "se_yhat = se_full(Z, D1)"
   ]
  },
  {
   "cell_type": "code",
   "execution_count": null,
   "id": "fda914b0-a738-4066-a60c-a33043b9a940",
   "metadata": {},
   "outputs": [],
   "source": [
    "plt.close(\"all\")\n",
    "plt.figure()\n",
    "plt.plot(D.X, D.y, 'k')\n",
    "plt.plot(D1.X, D1.y, color='tab:blue')\n",
    "pl_conf(pd_yhat, Z, color='tab:orange', label='PD')\n",
    "pl_conf(sum_yhat, Z, color='tab:green', label='Sum')\n",
    "pl_conf(mll_yhat, Z, color='tab:red', label='MLL')\n",
    "pl_conf(se_yhat, Z, color='tab:purple', label='SE')\n",
    "plt.legend()\n",
    "plt.show()"
   ]
  },
  {
   "cell_type": "code",
   "execution_count": null,
   "id": "f97932b5-4233-4d4b-8a95-5548ec09499b",
   "metadata": {},
   "outputs": [],
   "source": [
    "obj = ob.ConditionalLPD(negative=True, partitioner=ob.CompactSizePartitioner(size=300))\n",
    "key = jax.random.PRNGKey(13)\n",
    "optimizer = ox.adam(learning_rate=1e-1)\n",
    "\n",
    "crlpd_full, history = fit.fit(\n",
    "                            model=posterior,\n",
    "                            objective=obj,\n",
    "                            train_data=D,\n",
    "                            optim=optimizer,\n",
    "                            num_iters=200,\n",
    "                            key=key,\n",
    ")"
   ]
  },
  {
   "cell_type": "code",
   "execution_count": null,
   "id": "3ea5ec87-70a4-4663-ad69-f0d70f605dbb",
   "metadata": {},
   "outputs": [],
   "source": [
    "plt.figure(figsize=(8,3))\n",
    "plt.plot(history)\n",
    "plt.show()"
   ]
  },
  {
   "cell_type": "code",
   "execution_count": null,
   "id": "4db88ef8-3665-482e-97cb-038716ad84ec",
   "metadata": {},
   "outputs": [],
   "source": [
    "crlpd_yhat = crlpd_full(Z, D1)"
   ]
  },
  {
   "cell_type": "code",
   "execution_count": null,
   "id": "f0ac2e55-2c12-4ee5-a67b-1a6af1d5b09d",
   "metadata": {},
   "outputs": [],
   "source": [
    "plt.close(\"all\")\n",
    "plt.figure()\n",
    "plt.plot(D.X, D.y, 'k.')\n",
    "plt.plot(D1.X, D1.y, marker='.', color='tab:blue')\n",
    "# pl_conf(sum_yhat, Z, color='tab:green', label='Sum')\n",
    "pl_conf(mll_yhat, Z, color='tab:green', label='MLL')\n",
    "# pl_conf(lpd_yhat, Z, color='tab:red', label='LPD')\n",
    "pl_conf(rlpd_yhat, Z, color='tab:purple', label='RLPD')\n",
    "pl_conf(crlpd_yhat, Z, color='tab:orange', label='CRLPD')\n",
    "plt.legend()\n",
    "plt.show()"
   ]
  },
  {
   "cell_type": "code",
   "execution_count": null,
   "id": "d78fad84-7e61-4a5a-ba7a-4dcd73eec71a",
   "metadata": {},
   "outputs": [],
   "source": [
    "import pandas as pd\n",
    "models = dict(twostage=sum_yhat, fixed=lpd_yhat, random=rlpd_yhat, compact=crlpd_yhat, se=se_yhat\n",
    "results ="
   ]
  }
 ],
 "metadata": {
  "kernelspec": {
   "display_name": "Python 3 (ipykernel)",
   "language": "python",
   "name": "python3"
  },
  "language_info": {
   "codemirror_mode": {
    "name": "ipython",
    "version": 3
   },
   "file_extension": ".py",
   "mimetype": "text/x-python",
   "name": "python",
   "nbconvert_exporter": "python",
   "pygments_lexer": "ipython3",
   "version": "3.11.5"
  }
 },
 "nbformat": 4,
 "nbformat_minor": 5
}
