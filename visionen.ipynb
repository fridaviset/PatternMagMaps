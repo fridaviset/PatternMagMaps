{
 "cells": [
  {
   "cell_type": "markdown",
   "id": "e82e2e90-d64f-46e1-9519-b83c2511bea6",
   "metadata": {},
   "source": [
    "### Visionen dataset\n",
    "Data from an unstructured environment -- should not be beneficial with the PD component.\n",
    "Optimizes hyperparameters and produces plots for \n",
    "1. PD GP\n",
    "2. SE GP\n",
    "3. Sum GP"
   ]
  },
  {
   "cell_type": "code",
   "execution_count": null,
   "id": "ef6a3ab8-41bb-43b7-8e67-6aeddc72879c",
   "metadata": {},
   "outputs": [],
   "source": [
    "import jax \n",
    "import jax.numpy as jnp\n",
    "import scipy.io as sio\n",
    "import gpjax as gpx\n",
    "import optax as ox\n",
    "jax.config.update(\"jax_enable_x64\", True)\n",
    "import matplotlib.pyplot as plt\n",
    "import seaborn as sns\n",
    "import pandas as pd"
   ]
  },
  {
   "cell_type": "markdown",
   "id": "186c5d6f-6f5d-43e4-b091-86088c5ae767",
   "metadata": {},
   "source": [
    "### Load and visualize the data\n",
    "\n",
    "Subsampled to approximately 900 datapoints."
   ]
  },
  {
   "cell_type": "code",
   "execution_count": null,
   "id": "f5098f6f-e611-42a8-8c25-2475a25b8d1c",
   "metadata": {},
   "outputs": [],
   "source": [
    "data = sio.loadmat(\"data/visionen.mat\")\n",
    "inds = jnp.arange(0, data['y_mag_norm'].shape[-1], step=100)\n",
    "test_inds = inds[:-1] + 50\n",
    "X = jnp.array(data['p'].T[inds])/1000\n",
    "X = X.at[:,-1].set(0)\n",
    "XT = jnp.array(data['p'].T[test_inds])/1000\n",
    "XT = XT.at[:,-1].set(0)\n",
    "YT = jnp.array(data['y_mag_norm'].T[test_inds])\n",
    "D = gpx.Dataset(X, jnp.array(data['y_mag_norm'].T[inds]))\n",
    "%matplotlib widget\n",
    "plt.close(\"all\")\n",
    "plt.figure()\n",
    "plt.scatter(data['p'][0, inds]/1000, data['p'][1,inds]/1000, c=data['y_mag_norm'][:,inds].flatten())#, antialiased=True)\n",
    "plt.colorbar()\n",
    "plt.show()"
   ]
  },
  {
   "cell_type": "markdown",
   "id": "7a22e5a0-6591-4e55-b5ff-d0b6bfed1300",
   "metadata": {},
   "source": [
    "## Optimize hyperparameters of the sum kernel"
   ]
  },
  {
   "cell_type": "code",
   "execution_count": null,
   "id": "03093a24-e81c-416c-8442-95c82c9d70c1",
   "metadata": {},
   "outputs": [],
   "source": [
    "import kernels\n",
    "mean_function = gpx.mean_functions.Zero()\n",
    "pd_kernel = kernels.PeriodicPD(q=3)\n",
    "sum_kernel = gpx.kernels.SumKernel(kernels=[pd_kernel, gpx.kernels.RBF()])\n",
    "prior = gpx.gps.Prior(mean_function=mean_function, kernel=sum_kernel)\n",
    "likelihood = gpx.likelihoods.Gaussian(num_datapoints=D.n, obs_stddev=1.)\n",
    "posterior = prior * likelihood"
   ]
  },
  {
   "cell_type": "code",
   "execution_count": null,
   "id": "563c6ed0-d0b4-4bd1-8fbc-0ddb9e534965",
   "metadata": {},
   "outputs": [],
   "source": [
    "key = jax.random.PRNGKey(13)\n",
    "optimizer = ox.adam(learning_rate=1e-1)\n",
    "\n",
    "sum_full, history = gpx.fit(\n",
    "                model=posterior,\n",
    "                objective=gpx.objectives.ConjugateMLL(negative=True),\n",
    "                train_data=D,\n",
    "                optim=optimizer,\n",
    "                num_iters=150,\n",
    "                key=key,\n",
    ")"
   ]
  },
  {
   "cell_type": "code",
   "execution_count": null,
   "id": "ba83075d-1033-42f4-8965-b9a50bf76bbe",
   "metadata": {},
   "outputs": [],
   "source": [
    "plt.figure(figsize=(8,3))\n",
    "plt.plot(history)\n",
    "plt.show()"
   ]
  },
  {
   "cell_type": "markdown",
   "id": "6bb7809a-b3ea-47fe-a27e-e45054b22010",
   "metadata": {
    "jp-MarkdownHeadingCollapsed": true
   },
   "source": [
    "### SE kernel\n",
    "Full GP with standard squared-exponential kernel. Optimises hyperparameters via negative MLL optimisation."
   ]
  },
  {
   "cell_type": "code",
   "execution_count": null,
   "id": "482cb839-fec3-4ed1-820c-0e4ac68bc980",
   "metadata": {},
   "outputs": [],
   "source": [
    "kernel = gpx.kernels.RBF()\n",
    "prior = gpx.gps.Prior(mean_function=mean_function, kernel=kernel)\n",
    "posterior = prior * likelihood\n",
    "key = jax.random.PRNGKey(13)\n",
    "optimizer = ox.adam(learning_rate=1e-1)\n",
    "\n",
    "se_full, history = gpx.fit(\n",
    "                model=posterior,\n",
    "                objective=gpx.objectives.ConjugateMLL(negative=True),\n",
    "                train_data=D,\n",
    "                optim=optimizer,\n",
    "                num_iters=150,\n",
    "                key=key,\n",
    ")"
   ]
  },
  {
   "cell_type": "code",
   "execution_count": null,
   "id": "4d88822e-054a-4c54-95af-1c771422ddbe",
   "metadata": {},
   "outputs": [],
   "source": [
    "plt.figure(figsize=(8,3))\n",
    "plt.plot(history)\n",
    "plt.show()"
   ]
  },
  {
   "cell_type": "markdown",
   "id": "6009022c-1348-43c1-9aee-c09fa5eb6c40",
   "metadata": {},
   "source": [
    "### Predictions on a fine test grid (note -- this may take a few minutes)"
   ]
  },
  {
   "cell_type": "code",
   "execution_count": null,
   "id": "2aa85bfc-4ce8-4170-85dd-9e3ee2a7d9c1",
   "metadata": {},
   "outputs": [],
   "source": [
    "import numpy as np\n",
    "ntest = 200\n",
    "x = jnp.linspace(D.X[:,0].min(), D.X[:,0].max(), ntest)\n",
    "y = jnp.linspace(D.X[:,1].min(), D.X[:,1].max(), ntest)\n",
    "xtest = np.array([x.flatten() for x in jnp.meshgrid(x, y)])\n",
    "xtest = jnp.vstack([xtest, jnp.zeros((1,xtest.shape[-1]))]).T\n",
    "\n",
    "import gp_utils as gpu\n",
    "from gpjax.distributions import GaussianDistribution\n",
    "import cola\n",
    "from tqdm.notebook import tqdm\n",
    "def pred_on_grid(gp):\n",
    "    mu, cov = [], []\n",
    "    for i in tqdm(range(0, xtest.shape[0], 2000)):\n",
    "        f = gp(xtest[i:i+2000], D)\n",
    "        mu.append(f.mean())\n",
    "        cov.append(f.covariance().diagonal())\n",
    "    return jnp.concatenate(mu), jnp.concatenate(cov)"
   ]
  },
  {
   "cell_type": "code",
   "execution_count": null,
   "id": "08bcf8ad-8217-4a34-8fba-f7113a59c621",
   "metadata": {},
   "outputs": [],
   "source": [
    "se = sum_full.replace(prior=sum_full.prior.replace(kernel=sum_full.prior.kernel.kernels[1]))\n",
    "pd = sum_full.replace(prior=sum_full.prior.replace(kernel=sum_full.prior.kernel.kernels[0]))\n",
    "pd_mu, pd_var = pred_on_grid(pd)\n",
    "se_mu, se_var = pred_on_grid(se)\n",
    "sum_mu, sum_var = pred_on_grid(sum_full)"
   ]
  },
  {
   "cell_type": "code",
   "execution_count": null,
   "id": "af7f46fb-8f07-479c-8da6-d992fecb781d",
   "metadata": {},
   "outputs": [],
   "source": [
    "pmin, pmax = D.X.min(axis=0)[:2], D.X.max(axis=0)[:2]\n",
    "ext = 0.02*np.diff(np.array([pmin, pmax]).T, axis=1)\n",
    "pmin -= ext[0]\n",
    "pmax += ext[1]\n",
    "xlim, ylim = np.array([pmin, pmax]).T + np.kron(np.array([-1, 1]), ext)"
   ]
  },
  {
   "cell_type": "markdown",
   "id": "a83f9bd8-c2ac-47b3-9ee7-8840fe70af2e",
   "metadata": {},
   "source": [
    "##### Save raw measurements"
   ]
  },
  {
   "cell_type": "code",
   "execution_count": null,
   "id": "7efa1f76-8c5a-4486-b95e-3d2b721b718b",
   "metadata": {},
   "outputs": [],
   "source": [
    "import matplotlib\n",
    "import tikzplotlib\n",
    "from utils import bitmappify\n",
    "plt.close(\"all\")\n",
    "vmin, vmax = D.y.min(), D.y.max()\n",
    "cmap = sns.color_palette(\"viridis\", as_cmap=True)\n",
    "with sns.axes_style(\"whitegrid\"):\n",
    "    matplotlib.rcParams['xtick.direction'] ='in'\n",
    "    matplotlib.rcParams['ytick.direction'] ='in'\n",
    "    matplotlib.rcParams['xtick.bottom'] = True\n",
    "    matplotlib.rcParams['ytick.left'] = True\n",
    "    fig = plt.figure(figsize=(4, 4))\n",
    "    g = plt.scatter(D.X[:,0], D.X[:,1], c=D.y.flatten(), marker='s', vmin=vmin, vmax=vmax, cmap=cmap)\n",
    "    bitmappify(plt.gca(), dpi=300)\n",
    "    plt.xlabel(r\"$x_1~[m]$\")\n",
    "    plt.ylabel(r\"$x_2~[m]$\")\n",
    "    plt.xlim(xlim)\n",
    "    plt.ylim(ylim)\n",
    "    tikzplotlib.save(\"raw_measurements.tex\",\n",
    "                     axis_width=\"3.5cm\",\n",
    "                     extra_axis_parameters=[\"scale only axis\",\n",
    "                                           \"xlabel style={yshift=.25cm}\",\n",
    "                                            \"ylabel style={yshift=-.25cm}\",\n",
    "                                           \"title style={yshift=-.25cm}\",],\n",
    "                     override_externals=True,\n",
    "                    standalone=False)"
   ]
  },
  {
   "cell_type": "markdown",
   "id": "93b54589-1c0d-44a2-abc8-b3ff8a367314",
   "metadata": {},
   "source": [
    "##### Save predictions"
   ]
  },
  {
   "cell_type": "code",
   "execution_count": null,
   "id": "3c867995-5201-4ed3-95e9-1be6af74fefc",
   "metadata": {},
   "outputs": [],
   "source": [
    "def save_pred(mu, var, filename=None, extra_axis_params=[], standalone=False):\n",
    "    plt.close(\"all\")\n",
    "    a = var\n",
    "    a = 1 - a/a.max()\n",
    "    with sns.axes_style(\"whitegrid\"):\n",
    "        matplotlib.rcParams['xtick.direction'] ='in'\n",
    "        matplotlib.rcParams['ytick.direction'] ='in'\n",
    "        matplotlib.rcParams['xtick.bottom'] = True\n",
    "        matplotlib.rcParams['ytick.left'] = True\n",
    "        fig = plt.figure(figsize=(4, 4))\n",
    "        # plt.scatter(xtest[:,0], xtest[:,1], c=preds.mean(), marker='s', vmin=vmin, vmax=vmax, cmap=cmap, alpha=a)#, edgecolors='none')\n",
    "        c = mu\n",
    "        g = plt.imshow(c.reshape(ntest, ntest), \n",
    "                       alpha=a.reshape(ntest, ntest),\n",
    "                       cmap=cmap,\n",
    "                       vmin=vmin,\n",
    "                       vmax=vmax,\n",
    "                       origin='lower',\n",
    "                       extent=(xtest[:,0].min(), xtest[:,0].max(), xtest[:,1].min(), xtest[:,1].max()),\n",
    "                      interpolation='bicubic')\n",
    "        plt.xlim(xlim)\n",
    "        plt.ylim(ylim)\n",
    "        bitmappify(plt.gca(), dpi=300)\n",
    "        extra_axis_parameters = [\"scale only axis\",\n",
    "                               \"xlabel style={yshift=.25cm}\",\n",
    "                                \"ylabel style={yshift=-.25cm}\",\n",
    "                                \"title style={yshift=-.25cm}\"] + extra_axis_params\n",
    "        if filename is not None:\n",
    "            tikzplotlib.save(filename,\n",
    "                         axis_width=\"4.0cm\",\n",
    "                         extra_axis_parameters=extra_axis_parameters,\n",
    "                         override_externals=True,\n",
    "                        standalone=standalone)"
   ]
  },
  {
   "cell_type": "code",
   "execution_count": null,
   "id": "594072c7-1f92-4cdb-8136-6564b7072d76",
   "metadata": {},
   "outputs": [],
   "source": [
    "save_pred(pd_mu, pd_var, filename=\"pd_pred.tex\", extra_axis_params=[\"ylabel={$x_2~[m]$}\", \"xticklabels={}\"], standalone=False)"
   ]
  },
  {
   "cell_type": "code",
   "execution_count": null,
   "id": "5d69247d-bef2-4d1f-ab72-32186a37f6cb",
   "metadata": {},
   "outputs": [],
   "source": [
    "save_pred(se_mu, se_var, filename=\"se_pred.tex\", extra_axis_params=[\"yticklabels={}\", \"xticklabels={}\"], standalone=False)"
   ]
  },
  {
   "cell_type": "code",
   "execution_count": null,
   "id": "38a06358-ed24-45d0-8d04-d52dbb515a53",
   "metadata": {},
   "outputs": [],
   "source": [
    "save_pred(sum_mu, sum_var, filename=\"sum_pred.tex\", extra_axis_params=[\"xlabel={$x_1~[m]$}\", \"yticklabels={}\"], standalone=False)"
   ]
  },
  {
   "cell_type": "code",
   "execution_count": null,
   "id": "36c71815-d4d4-43b1-aab7-087ff718320c",
   "metadata": {},
   "outputs": [],
   "source": [
    "import tensorflow_probability.substrates.jax as tfp\n",
    "tfd = tfp.distributions\n",
    "def nlpd(gp):\n",
    "    pred = gp(XT, D)\n",
    "    mu, cov = pred.mean(), pred.covariance().diagonal()\n",
    "    cov += gp.likelihood.obs_stddev ** 2\n",
    "    return -jax.vmap(lambda loc, scale, y: tfd.Normal(loc=loc, scale=scale).log_prob(y), (0, 0, 0), 0)(mu, cov, YT).mean()\n",
    "nlpd(sum_full), nlpd(se), nlpd(pd)"
   ]
  },
  {
   "cell_type": "code",
   "execution_count": null,
   "id": "5cccf00a-477e-48d8-b437-af8fabfdc45d",
   "metadata": {},
   "outputs": [],
   "source": [
    "filenames = ['pd', 'se', 'sum', 'meas']\n",
    "for file in filenames:\n",
    "    fig, ax = plt.subplots(figsize=(6, 6))\n",
    "    with open(file + '.csv', \"r\") as f:\n",
    "        d = pd.read_csv(f)\n",
    "    g = plt.scatter(d.x1, d.x2, c=d.y, vmin=0, vmax=2.5, cmap=sns.color_palette(\"viridis\", as_cmap=True), alpha=d.a)\n",
    "    ax.set(xticklabels=[], yticklabels=[])\n",
    "    fig.savefig(file + '.pdf', bbox_inches='tight')\n",
    "    if 'meas' in file:\n",
    "        fig, ax = plt.subplots()\n",
    "        cbar = plt.colorbar(g, ax=ax, orientation='horizontal')\n",
    "        cbar.ax.xaxis.set_ticks_position('top')\n",
    "        ax.remove()\n",
    "        fig.savefig('visionen_cbar.pdf', bbox_inches='tight')"
   ]
  },
  {
   "cell_type": "code",
   "execution_count": null,
   "id": "25b19bb1-e964-4f27-93fe-006a10824cc0",
   "metadata": {},
   "outputs": [],
   "source": [
    "vmin, vmax = D.y.min(), D.y.max()\n",
    "\n",
    "plt.close(\"all\")\n",
    "fig, ax = plt.subplots(2, 2, figsize=(8, 8))\n",
    "g = ax[1,0].scatter(D.X[:,0],D.X[:,1], c=D.y.flatten(), vmin=vmin, vmax=vmax, cmap=sns.color_palette(\"viridis\", as_cmap=True))\n",
    "ax[1,0].set_title(\"Raw measurements\")\n",
    "apd = yh_pd.covariance().diagonal()\n",
    "apd = apd/apd.max()\n",
    "ax[0,0].scatter(xtest[:,0], xtest[:,1], c=yh_pd.mean(), vmin=vmin, vmax=vmax, cmap=sns.color_palette(\"viridis\", as_cmap=True), alpha=1-apd)\n",
    "ax[0,0].set_title(\"PD kernel\")\n",
    "ase = yhgp.covariance().diagonal()\n",
    "ase = ase/ase.max()\n",
    "ax[0,1].scatter(xtest[:,0], xtest[:,1], c=yhgp.mean(), vmin=vmin, vmax=vmax, cmap=sns.color_palette(\"viridis\", as_cmap=True), alpha=1-ase)\n",
    "ax[0,1].set_title(\"SE kernel\")\n",
    "asum = yh_sum.covariance().diagonal()\n",
    "asum = asum/asum.max()\n",
    "g = ax[1,1].scatter(xtest[:,0], xtest[:,1], c=yh_sum.mean(), vmin=vmin, vmax=vmax, cmap=sns.color_palette(\"viridis\", as_cmap=True), alpha=1-asum)\n",
    "ax[1,1].set_title(\"PD + SE kernel\")\n",
    "fig.subplots_adjust(right=0.8)\n",
    "cbar_ax = fig.add_axes([0.85, 0.15, 0.05, 0.7])\n",
    "fig.colorbar(g, cax=cbar_ax)\n",
    "\n",
    "for axi in ax.flatten():\n",
    "    axi.set_box_aspect(1)\n",
    "plt.show()"
   ]
  },
  {
   "cell_type": "code",
   "execution_count": null,
   "id": "cb99fae1-01ce-46d6-9eab-0109c8e65e71",
   "metadata": {},
   "outputs": [],
   "source": [
    "yh_pd.kl_divergence(yhgp)\n",
    "yh_sum.kl_divergence(yhgp)"
   ]
  },
  {
   "cell_type": "code",
   "execution_count": null,
   "id": "235af927-56bd-475d-a978-6949370890e2",
   "metadata": {},
   "outputs": [],
   "source": []
  }
 ],
 "metadata": {
  "kernelspec": {
   "display_name": "Python 3 (ipykernel)",
   "language": "python",
   "name": "python3"
  },
  "language_info": {
   "codemirror_mode": {
    "name": "ipython",
    "version": 3
   },
   "file_extension": ".py",
   "mimetype": "text/x-python",
   "name": "python",
   "nbconvert_exporter": "python",
   "pygments_lexer": "ipython3",
   "version": "3.11.5"
  }
 },
 "nbformat": 4,
 "nbformat_minor": 5
}
